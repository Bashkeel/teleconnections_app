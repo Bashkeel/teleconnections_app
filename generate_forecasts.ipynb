{
 "cells": [
  {
   "cell_type": "code",
   "execution_count": 2,
   "metadata": {},
   "outputs": [],
   "source": [
    "from IPython.display import clear_output\n",
    "import pandas as pd\n",
    "import numpy as np\n",
    "from calendar import month_abbr\n",
    "from functools import reduce\n",
    "from IPython.display import clear_output\n",
    "import dateutil\n",
    "\n",
    "import matplotlib.pyplot as plt\n",
    "import seaborn as sns\n",
    "import plotly.graph_objects as go\n",
    "\n",
    "from fbprophet import Prophet\n",
    "from fbprophet.plot import plot_plotly, plot_components_plotly, plot_cross_validation_metric\n",
    "from fbprophet.diagnostics import cross_validation, performance_metrics\n",
    "from fbprophet.utilities import regressor_coefficients\n",
    "\n",
    "import os\n",
    "import json\n",
    "from fbprophet.serialize import model_to_json, model_from_json\n",
    "\n",
    "from scipy.stats import normaltest\n",
    "from statsmodels.tsa.stattools import adfuller, kpss, grangercausalitytests\n",
    "from statsmodels.api import OLS\n",
    "from src.helpers import *\n",
    "\n",
    "\n",
    "model_names = ['indices', 'tele_diff', 'lagged_tele', 'elnino_cat', 'lagged_elnino', 'ideal_lag', 'overfitted']\n",
    "model_calls = [get_temp_and_indices, get_temp_diff_tele_indices, get_temp_lagged_tele_indices, get_temp_elnino_cat_indices, get_temp_lagged_elnino,\n",
    "              get_temp_ideal_lag, get_temp_overfitted]\n",
    "cities = ['Singapore', 'Tokyo', 'Toronto', 'Delhi', 'Cairo', 'Riyadh', 'Los Angeles', 'Lagos', 'Paris', 'Moscow']\n",
    "\n",
    "for city in cities:\n",
    "    model_summary = []\n",
    "    for i in range(len(model_names)):\n",
    "        if not os.path.exists(f'data/models/{city}/{model_names[i]}'):\n",
    "            os.makedirs(f'data/models/{city}/{model_names[i]}')\n",
    "\n",
    "        df = model_calls[i](city)\n",
    "        m, forecast, df_cv = forecast_regressors(df, 6, 12)\n",
    "        with open(f'data/models/{city}/{model_names[i]}/m.json', 'w') as fout:\n",
    "                json.dump(model_to_json(m), fout)\n",
    "        forecast.to_csv(f'data/models/{city}/{model_names[i]}/forecast.csv', index=False)\n",
    "        cv_metrics = performance_metrics(df_cv, rolling_window=1)\n",
    "        cv_metrics['Model'] = model_names[i]\n",
    "        model_summary.append(cv_metrics)\n",
    "\n",
    "        df.dropna(axis=0, inplace=True)\n",
    "        df.to_csv(f'data/models/{city}/{model_names[i]}/{model_names[i]}_data.csv', index=False)\n",
    "        summary_stats = get_summary_statistics(df)\n",
    "        summary_stats.to_csv(f'data/models/{city}/{model_names[i]}/{model_names[i]}_stats.csv')\n",
    "        clear_output()\n",
    "\n",
    "    model_summary = pd.concat(model_summary)\n",
    "    model_summary.to_csv(f'data/models/{city}/Summary_table.csv', index=False)"
   ]
  }
 ],
 "metadata": {
  "kernelspec": {
   "display_name": "Python 3",
   "language": "python",
   "name": "python3"
  },
  "language_info": {
   "codemirror_mode": {
    "name": "ipython",
    "version": 3
   },
   "file_extension": ".py",
   "mimetype": "text/x-python",
   "name": "python",
   "nbconvert_exporter": "python",
   "pygments_lexer": "ipython3",
   "version": "3.7.2"
  }
 },
 "nbformat": 4,
 "nbformat_minor": 4
}
